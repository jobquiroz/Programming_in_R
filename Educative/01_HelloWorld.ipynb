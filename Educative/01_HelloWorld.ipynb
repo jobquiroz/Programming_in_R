{
 "cells": [
  {
   "cell_type": "code",
   "execution_count": 1,
   "id": "b5c5422d",
   "metadata": {},
   "outputs": [
    {
     "name": "stdout",
     "output_type": "stream",
     "text": [
      "[1] \"Hello World\"\n"
     ]
    }
   ],
   "source": [
    "# Simply use the print() keyword\n",
    "# Write anyting between quotation marks to print on console.\n",
    "print('Hello World')"
   ]
  },
  {
   "cell_type": "markdown",
   "id": "1fc9efc5",
   "metadata": {},
   "source": [
    "Comentarios: `#`"
   ]
  },
  {
   "cell_type": "code",
   "execution_count": 2,
   "id": "0c926053",
   "metadata": {},
   "outputs": [
    {
     "name": "stdout",
     "output_type": "stream",
     "text": [
      "[1] \"Hello World\"\n"
     ]
    }
   ],
   "source": [
    "print(\"Hello World\", quote = TRUE)"
   ]
  },
  {
   "cell_type": "code",
   "execution_count": 3,
   "id": "fb78adcf",
   "metadata": {},
   "outputs": [
    {
     "name": "stdout",
     "output_type": "stream",
     "text": [
      "[1] Hello World\n"
     ]
    }
   ],
   "source": [
    "print(\"Hello World\", quote = FALSE)"
   ]
  },
  {
   "cell_type": "markdown",
   "id": "a37f5bec",
   "metadata": {},
   "source": [
    "Otra forma de imprimir: `cat()`"
   ]
  },
  {
   "cell_type": "code",
   "execution_count": 2,
   "id": "353bd163",
   "metadata": {},
   "outputs": [
    {
     "name": "stdout",
     "output_type": "stream",
     "text": [
      "Hello World"
     ]
    }
   ],
   "source": [
    "# Another method to print Hello World\n",
    "cat(\"Hello World\")   "
   ]
  },
  {
   "cell_type": "markdown",
   "id": "d74214e3",
   "metadata": {},
   "source": [
    "Quita las comillas...\n",
    "\n",
    "Pero si queremos con comillas:"
   ]
  },
  {
   "cell_type": "code",
   "execution_count": 3,
   "id": "8dafcff6",
   "metadata": {},
   "outputs": [
    {
     "name": "stdout",
     "output_type": "stream",
     "text": [
      "\"Hello World\""
     ]
    }
   ],
   "source": [
    "# Printing quotation marks using cat() keyword\n",
    "cat(\"\\\"Hello World\\\"\")"
   ]
  },
  {
   "cell_type": "code",
   "execution_count": null,
   "id": "e94ab42d",
   "metadata": {},
   "outputs": [],
   "source": []
  },
  {
   "cell_type": "code",
   "execution_count": null,
   "id": "bbf81ec3",
   "metadata": {},
   "outputs": [],
   "source": []
  }
 ],
 "metadata": {
  "kernelspec": {
   "display_name": "R",
   "language": "R",
   "name": "ir"
  },
  "language_info": {
   "codemirror_mode": "r",
   "file_extension": ".r",
   "mimetype": "text/x-r-source",
   "name": "R",
   "pygments_lexer": "r",
   "version": "3.6.1"
  }
 },
 "nbformat": 4,
 "nbformat_minor": 5
}
