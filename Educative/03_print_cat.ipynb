{
 "cells": [
  {
   "cell_type": "markdown",
   "id": "e04748f3",
   "metadata": {},
   "source": [
    "`print()` imprime argumentos en la consola. \n",
    "\n",
    "Por otro lado `cat()` hace lo mismo pero es válido sólo para tipos **atómicos** (logical, integer, real, complex, character) y **nombres**.\n",
    "\n",
    "Es por esto que `cat()` no puede ser llamado con listas **no-vacías** u otro tipo de **objetos**. Pues lo que `cat` hace es convertir los argumentos a caracteres y concatenarlos."
   ]
  },
  {
   "cell_type": "markdown",
   "id": "b8bafaac",
   "metadata": {},
   "source": [
    "Otra diferencia esecnail es la **clase de objetos que regresan**. Esto es importante de reconocer pues los objetos tienen ciertas capacidades dependiendo de su tipo.\n",
    "\n",
    "> `print()` regresa un **vector de caracteres**. `cat()` regresa un objeto **`NULL`**."
   ]
  },
  {
   "cell_type": "markdown",
   "id": "3efc78a9",
   "metadata": {},
   "source": [
    "**Concatenando cadenas con `cat()`**\n",
    "\n",
    "Su verdadero uso es para cuando queremos imprimir cadenas concatenadas:"
   ]
  },
  {
   "cell_type": "code",
   "execution_count": 1,
   "id": "7ac14b2c",
   "metadata": {},
   "outputs": [
    {
     "name": "stdout",
     "output_type": "stream",
     "text": [
      "Hello World with R"
     ]
    }
   ],
   "source": [
    "# concatenate and print\n",
    "cat(\"Hello World\", \"with R\")"
   ]
  },
  {
   "cell_type": "markdown",
   "id": "5762b42a",
   "metadata": {},
   "source": [
    "**Concatenando con `print()`**"
   ]
  },
  {
   "cell_type": "code",
   "execution_count": 2,
   "id": "b33f6043",
   "metadata": {},
   "outputs": [
    {
     "name": "stdout",
     "output_type": "stream",
     "text": [
      "[1] \"Hello World with R\"\n"
     ]
    }
   ],
   "source": [
    "# concatenate using paste() and then print\n",
    "print(paste(\"Hello World\", \"with R\"))"
   ]
  },
  {
   "cell_type": "markdown",
   "id": "86d4b699",
   "metadata": {},
   "source": [
    "**Ejercicio**"
   ]
  },
  {
   "cell_type": "code",
   "execution_count": 12,
   "id": "32cf2e8e",
   "metadata": {},
   "outputs": [
    {
     "name": "stdout",
     "output_type": "stream",
     "text": [
      "learning is fun and easy                           learning is fun and easy                           learning is fun and easy                          "
     ]
    }
   ],
   "source": [
    "testVariable <- \"learning is fun and easy                          \"\n",
    "\n",
    "cat(rep(testVariable, 3))"
   ]
  },
  {
   "cell_type": "code",
   "execution_count": 13,
   "id": "1afaeacd",
   "metadata": {},
   "outputs": [
    {
     "name": "stdout",
     "output_type": "stream",
     "text": [
      "[1] \"learning is fun and easy                          \"\n",
      "[2] \"learning is fun and easy                          \"\n",
      "[3] \"learning is fun and easy                          \"\n"
     ]
    }
   ],
   "source": [
    "print(rep(testVariable, 3))"
   ]
  }
 ],
 "metadata": {
  "kernelspec": {
   "display_name": "R",
   "language": "R",
   "name": "ir"
  },
  "language_info": {
   "codemirror_mode": "r",
   "file_extension": ".r",
   "mimetype": "text/x-r-source",
   "name": "R",
   "pygments_lexer": "r",
   "version": "3.6.1"
  }
 },
 "nbformat": 4,
 "nbformat_minor": 5
}
